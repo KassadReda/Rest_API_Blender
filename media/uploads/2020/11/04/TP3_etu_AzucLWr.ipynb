{
 "cells": [
  {
   "cell_type": "markdown",
   "metadata": {},
   "source": [
    "<img style=\"float: right;width: 100px\" src=\"https://www.enib.fr/images/logo-enib-accueil.jpg\">\n",
    "\n",
    "<div>\n",
    "    <p><h3>Traitement du signal (S6)</h3></p>\n",
    "    <p><span class=\"badge badge-danger\" style=\"background-color:#dc3545\">TP3</span> <span class=\"badge badge-info\">2020</span></p>\n",
    "</div>\n",
    "\n",
    "<div style=\"text-align: center;padding-bottom:20px;padding-top:10px\">\n",
    "    <h1>TP3</h1>\n",
    "    <h2>Transformée de Fourier Discrète</h2>\n",
    "</div>"
   ]
  },
  {
   "cell_type": "markdown",
   "metadata": {},
   "source": [
    "Pour générer et representer les signaux, nous allons utiliser le module `numpy` (gestion des tableaux), le module `matplotlib` (affichage) et quelques fonctions de `scipy`."
   ]
  },
  {
   "cell_type": "code",
   "execution_count": 154,
   "metadata": {},
   "outputs": [],
   "source": [
    "from numpy import *\n",
    "from scipy.stats import norm\n",
    "from matplotlib.pyplot import *\n",
    "from ipywidgets import interact\n",
    "from numpy.fft import *"
   ]
  },
  {
   "cell_type": "code",
   "execution_count": null,
   "metadata": {},
   "outputs": [],
   "source": []
  },
  {
   "cell_type": "markdown",
   "metadata": {},
   "source": [
    "### Exercice 1 : TFD avec `fft`\n",
    "\n",
    "#### Signal monochromatique\n",
    "\n",
    "Dans cet exercice, nous allons tout d'abord créer un signal $s$ sinusoïdal d’amplitude 1, de fréquence 100 Hz, de durée 0.8 secondes et échantillonné à 1000Hz."
   ]
  },
  {
   "cell_type": "code",
   "execution_count": 155,
   "metadata": {},
   "outputs": [],
   "source": [
    "fe = 1000\n",
    "t = arange(0,0.8,1/fe)\n",
    "s = sin(2*pi*100*t)"
   ]
  },
  {
   "cell_type": "markdown",
   "metadata": {},
   "source": [
    "**Question :**  Déterminer le nombre d'échantillons du vecteur `s` noté $N$."
   ]
  },
  {
   "cell_type": "code",
   "execution_count": null,
   "metadata": {},
   "outputs": [],
   "source": []
  },
  {
   "cell_type": "markdown",
   "metadata": {},
   "source": [
    "Nous allons représenter le module de la TFD du signal `s` en utilisant la fonction `fft`.\n",
    "\n",
    "<div class=\"alert alert-info\">Documentation de la commande <a href=\"https://numpy.org/doc/stable/reference/generated/numpy.fft.fft.html#numpy.fft.fft\">fft</a>.</div>"
   ]
  },
  {
   "cell_type": "code",
   "execution_count": 156,
   "metadata": {},
   "outputs": [
    {
     "data": {
      "image/png": "[encoded data removed]",
      "text/plain": [
       "<Figure size 432x288 with 1 Axes>"
      ]
     },
     "metadata": {
      "needs_background": "light"
     },
     "output_type": "display_data"
    }
   ],
   "source": [
    "stem(abs(fft(s)),use_line_collection=True)\n",
    "xlabel(\"k\");"
   ]
  },
  {
   "cell_type": "markdown",
   "metadata": {},
   "source": [
    "On voit en abscisse l’indice varier de $1$ à $N = 800$, le nombre d’échantillons temporels et fréquentiels. D’après l’étude théorique, le pas fréquentiel est $\\Delta f = f_e/N$. La fréquence varie donc de $f=0$ (indice=0) à $f=f_e$ (indice=799).\n",
    "\n",
    "Pour obtenir une représentation avec un sens physique, nous allons réaliser les étapes suivantes :\n",
    "\n",
    "1. créer le vecteur fréquence `freq = k.∆f` avec $k$ variant de 0 à $N − 1$.\n",
    "2. Tracer `abs(fft(s))` en fonction de `freq`."
   ]
  },
  {
   "cell_type": "code",
   "execution_count": 157,
   "metadata": {},
   "outputs": [
    {
     "data": {
      "image/png": "[encoded data removed]",
      "text/plain": [
       "<Figure size 432x288 with 1 Axes>"
      ]
     },
     "metadata": {
      "needs_background": "light"
     },
     "output_type": "display_data"
    }
   ],
   "source": [
    "N = len(s)\n",
    "delta_f = fe/N\n",
    "k_vect = np.arange(N)\n",
    "freq = k_vect*delta_f\n",
    "S = fft(s)\n",
    "stem(freq,abs(S),use_line_collection=True)\n",
    "xlabel(\"f (Hz)\");"
   ]
  },
  {
   "cell_type": "markdown",
   "metadata": {},
   "source": [
    "**Question :**  Expliquer le contenu de la représentation fréquentielle (fréquences présentes et amplitudes associées)."
   ]
  },
  {
   "cell_type": "code",
   "execution_count": null,
   "metadata": {},
   "outputs": [],
   "source": []
  },
  {
   "cell_type": "markdown",
   "metadata": {},
   "source": [
    "La commande `fft` calcule la TFD sur l’intervalle $[0,f_e]$. Pour représenter la TFD symétrique sur l’intervalle $[−f_e/2,f_e/2]$, il faut tout d’abord redéfinir l’axe `freq` avec les valeurs réelles et on utilise la commande `fftshift`.\n",
    "\n",
    "\n",
    "<div class=\"alert alert-info\">Documentation de la commande <a href=\"https://numpy.org/doc/stable/reference/generated/numpy.fft.fftshift.html\">fftshift</a>.</div>"
   ]
  },
  {
   "cell_type": "code",
   "execution_count": 158,
   "metadata": {},
   "outputs": [
    {
     "data": {
      "image/png": "[encoded data removed]",
      "text/plain": [
       "<Figure size 432x288 with 1 Axes>"
      ]
     },
     "metadata": {
      "needs_background": "light"
     },
     "output_type": "display_data"
    }
   ],
   "source": [
    "freq_shift=freq-fe/2\n",
    "S = fftshift(S)\n",
    "stem(freq_shift,abs(S),use_line_collection=True)\n",
    "xlabel(\"f (Hz)\");"
   ]
  },
  {
   "cell_type": "markdown",
   "metadata": {},
   "source": [
    "#### Signal trichromatique\n",
    "\n",
    "**Question :**  \n",
    "\n",
    "* Créer un signal trichromatique composé de la somme de 3 sinusoïdes de fréquence $f_1 = 2f_2 =3f_3 = 1200 Hz$ et d’amplitude $1$, $1.5$ et $4$ respectivement. La durée du signal est de $1.2$ seconde (vous êtes libre de choisir la fréquence d'échantillonnage)\n",
    "* Représenter le signal (ou une partie du signal) ainsi que le module de sa TFD.\n",
    "* Modifier le script en ajoutant un bruit aléatoire au signal de type Gaussien (fonction `norm`). Expérimenter avec plusieurs amplitudes du bruit.\n",
    "\n",
    "<div class=\"alert alert-info\">Documentation de la commande <a href=\"https://docs.scipy.org/doc/scipy/reference/generated/scipy.stats.norm.html\">fftshift</a>.</div>\n",
    "\n"
   ]
  },
  {
   "cell_type": "code",
   "execution_count": null,
   "metadata": {},
   "outputs": [],
   "source": []
  },
  {
   "cell_type": "markdown",
   "metadata": {},
   "source": [
    "### Exercice 2 : Influence de la durée d’observation\n",
    "\n",
    "Le but de cet exercice est de montrer l’influence de la longueur d’observation d’un signal sur son spectre. On considère un signal sinusoïdal de fréquence $10$ Hz que l’on échantillonne à 100 Hz."
   ]
  },
  {
   "cell_type": "markdown",
   "metadata": {},
   "source": [
    "#### Nombre entier de périodes\n",
    "\n",
    "Le bloc de code suivant permet de représenter le signal temporel $x(t)$ échantillonné sur 50 échantillons avec un nombre entier de périodes (ex. $5$ périodes)."
   ]
  },
  {
   "cell_type": "code",
   "execution_count": 159,
   "metadata": {},
   "outputs": [
    {
     "data": {
      "image/png": "[encoded data removed]",
      "text/plain": [
       "<Figure size 432x288 with 1 Axes>"
      ]
     },
     "metadata": {
      "needs_background": "light"
     },
     "output_type": "display_data"
    }
   ],
   "source": [
    "# Définition de la base de temps (50 échantillons) \n",
    "fe = 100\n",
    "t = arange(0,0.5,1/fe)\n",
    "x = cos(20*pi*t) # Calcul du signal x sur 5 periodes\n",
    "\n",
    "# Calcul de la FFT :\n",
    "N = len(x) ;\n",
    "X = (1/N)*fft(x,N)\n",
    "\n",
    "# Representation du module du spectre\n",
    "fp = (fe/N)*arange(N)\n",
    "#fp = fp-fe/2     #a decommenter pour obtenir un affichage symmetrique\n",
    "#X = fftshift(X)  #a decommenter pour obtenir un affichage symmetrique\n",
    "stem(fp,abs(X),use_line_collection=True)\n",
    "xlabel(\"frequence(Hz)\")\n",
    "ylabel(\"spectre d amplitude\");"
   ]
  },
  {
   "cell_type": "markdown",
   "metadata": {},
   "source": [
    "**Question :**  Que constatez-vous ?"
   ]
  },
  {
   "cell_type": "markdown",
   "metadata": {},
   "source": []
  },
  {
   "cell_type": "markdown",
   "metadata": {},
   "source": [
    "#### Effet du zéro-padding\n",
    "\n",
    "Le zero-padding consiste à augmenter artificiellement la longueur du signal en ajoutant des zéros. La bloc de code suivant permet d'obtenir un zero-padding de 100 périodes."
   ]
  },
  {
   "cell_type": "code",
   "execution_count": 160,
   "metadata": {},
   "outputs": [
    {
     "data": {
      "image/png": "[encoded data removed]",
      "text/plain": [
       "<Figure size 432x288 with 1 Axes>"
      ]
     },
     "metadata": {
      "needs_background": "light"
     },
     "output_type": "display_data"
    }
   ],
   "source": [
    "X = (1/N)*fft(x, 20*N) # zero-padding sur 100 periodes \n",
    "N_zp = len(X);\n",
    "fp = (fe/N_zp)*arange(N_zp)\n",
    "plot(fp,abs(X));\n",
    "xlabel(\"frequence(Hz)\");"
   ]
  },
  {
   "cell_type": "markdown",
   "metadata": {},
   "source": [
    "**Question :**  Que remarquez vous ? Est-ce que le zéro-padding améliore la résolution spectrale (capacité à discerner des fréquences distinctes dans un même signal) ?"
   ]
  },
  {
   "cell_type": "markdown",
   "metadata": {},
   "source": []
  },
  {
   "cell_type": "markdown",
   "metadata": {},
   "source": [
    "#### Cas où le nombre de périodes n’est pas entier\n",
    "\n",
    "Le bloc de code suivant permet de génerer un signal sinusoidal sur un nombre non-entier de période et d'affichager le module de son spectre."
   ]
  },
  {
   "cell_type": "code",
   "execution_count": 161,
   "metadata": {},
   "outputs": [
    {
     "data": {
      "image/png": "[encoded data removed]",
      "text/plain": [
       "<Figure size 432x288 with 1 Axes>"
      ]
     },
     "metadata": {
      "needs_background": "light"
     },
     "output_type": "display_data"
    }
   ],
   "source": [
    "# 45 echantillons : 4.5 périodes du signal\n",
    "t=arange(0,0.5-1/20,1/fe)\n",
    "x=cos(20*pi*t)\n",
    "N=len(x)\n",
    "\n",
    "X= (1/N)*fft(x,N)\n",
    "fp = (fe/N)*arange(N)\n",
    "stem(fp,abs(X),use_line_collection=True)\n",
    "xlabel(\"frequence(Hz)\")\n",
    "ylabel(\"spectre d amplitude\");"
   ]
  },
  {
   "cell_type": "markdown",
   "metadata": {},
   "source": [
    "**Question :**  Quelle conclusion tirez vous ?"
   ]
  },
  {
   "cell_type": "markdown",
   "metadata": {},
   "source": []
  },
  {
   "cell_type": "markdown",
   "metadata": {},
   "source": [
    "### Exercice 3 : Résolution spectrale et nombre d’échantillons\n",
    "\n",
    "Le fait de ne travailler qu’avec des signaux de durée limitée introduit une distortion en $sinc$ dans les raies du signal à analyser. Cette perte d’information est d’autant plus grande que la fenêtre d’observation est petite.\n",
    "\n",
    "Dans cette partie, on va garder la fréquence d’échantillonnage constante, et on va étudier l’influence du nombre d’échantillons ou la longueur de la fenëtre d’observation sur la résolution spectrale.\n",
    "\n",
    "**Question :** Synthétiser un signal sinusoïdal de fréquence 1000 Hz, d’amplitude 1, échantillonné à 20000 Hz. Sur une même figure, représenter :\n",
    "* ce signal sur une durée de 2 ms et en dessous sa TFD à 2048 points.\n",
    "* le même signal mais sur une durée de 24 ms et en dessous sa TFD à 2048 points. Interpréter les résultats, notamment la largeur des raies.\n",
    "*  modifier le script en ajoutant une composante à 1200 Hz. Concluez sur l'influence de la durée du signal sur la résolution fréquentielle (capacité à discerner des fréquences distinctes dans un même signal).\n"
   ]
  },
  {
   "cell_type": "code",
   "execution_count": null,
   "metadata": {},
   "outputs": [],
   "source": []
  },
  {
   "cell_type": "markdown",
   "metadata": {},
   "source": [
    "### Exercice 4 : Résolution spectrale et fréquence d’échantillonnage\n",
    "\n",
    "Nous souhaiterions ici étudier l’influence de la fréquence d’échantillonnage, $f_e$, d’une séquence sinusoïdale bichromatique échantillonnée sur un nombre fini de points ($N$ est constante).\n",
    "\n",
    "On considère un signal composé de deux sinusoïdes de fréquences 1000 Hz (amplitude = 1) et 1200 Hz (amplitude = 2) respectives. \n",
    "\n",
    "**Question :** En prenant le **même nombre d’échantillons** (N = 500) pour les fréquences d’échantillonnages 200 kHz, 20 kHz et 2500 Hz, observer l’effet de la résolution fréquentielle sur la représentation du spectre du signal. Interpréter les résultats en précisant la valeur de la résolution spectrale dans chaque cas."
   ]
  },
  {
   "cell_type": "code",
   "execution_count": null,
   "metadata": {},
   "outputs": [],
   "source": []
  }
 ],
 "metadata": {
  "kernelspec": {
   "display_name": "Python 3",
   "language": "python",
   "name": "python3"
  },
  "language_info": {
   "codemirror_mode": {
    "name": "ipython",
    "version": 3
   },
   "file_extension": ".py",
   "mimetype": "text/x-python",
   "name": "python",
   "nbconvert_exporter": "python",
   "pygments_lexer": "ipython3",
   "version": "3.7.6"
  }
 },
 "nbformat": 4,
 "nbformat_minor": 2
}
